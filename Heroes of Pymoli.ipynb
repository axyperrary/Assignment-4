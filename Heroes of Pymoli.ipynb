{
 "cells": [
  {
   "cell_type": "markdown",
   "metadata": {},
   "source": [
    "# Heroes Of Pymoli Data Analysis\n",
    "\n",
    "- Of the 1163 active players, the average amount spent by an indiviudal is 3.02 for males and 3.20 for females.\n",
    "- Our peak item, \"Oathbreaker, Last Hope of the Breaking Storm\" had $50.76 total purchase value and was the most \n",
    "  popular, being purchased 12 times.\n",
    "- Most players fall between the ages of 20-24 (44.79%), of which are also the most likey to purchase items,\n",
    "  and at higher rates (365). "
   ]
  },
  {
   "cell_type": "code",
   "execution_count": 15,
   "metadata": {},
   "outputs": [],
   "source": [
    "import pandas as pd\n",
    "import numpy as np\n",
    "\n",
    "csv_file = \"/Users/axy/Desktop/Heroes of Pymoli Data Analysis/data.csv\"\n",
    "data_pd = pd.read_csv(csv_file)"
   ]
  },
  {
   "cell_type": "code",
   "execution_count": 16,
   "metadata": {},
   "outputs": [
    {
     "name": "stdout",
     "output_type": "stream",
     "text": [
      "Total Players\n",
      "          576\n"
     ]
    }
   ],
   "source": [
    "# Player Count\n",
    "players = len(data_pd[\"SN\"].unique())\n",
    "total_players = pd.DataFrame({\"Total Players\" : [len(data_pd[\"SN\"].unique())]})\n",
    "print(total_players.to_string(index = False))"
   ]
  },
  {
   "cell_type": "code",
   "execution_count": 17,
   "metadata": {},
   "outputs": [
    {
     "name": "stdout",
     "output_type": "stream",
     "text": [
      "Number of Unique Items Average Price  Number of Purchases Total Revenue\n",
      "                   183         $3.05                  780      $2379.77\n"
     ]
    }
   ],
   "source": [
    "# Purchasing Analysis (Total)\n",
    "num_unique_items = len(data_pd[\"Item ID\"].unique())\n",
    "average_price = data_pd[\"Price\"].mean()\n",
    "num_purchases = len(data_pd[\"Purchase ID\"].unique())\n",
    "total_revenue = data_pd[\"Price\"].sum()\n",
    "\n",
    "summary_pd = pd.DataFrame({\"Number of Unique Items\" : [num_unique_items], \n",
    "                            \"Average Price\" : [average_price], \n",
    "                            \"Number of Purchases\" : [num_purchases],\n",
    "                            \"Total Revenue\" : [total_revenue]})\n",
    "summary_pd[\"Average Price\"] = summary_pd[\"Average Price\"].map(\"${:.2f}\".format)\n",
    "summary_pd[\"Total Revenue\"] = summary_pd[\"Total Revenue\"].map(\"${:.2f}\".format)\n",
    "print(summary_pd.to_string(index = False))"
   ]
  },
  {
   "cell_type": "code",
   "execution_count": 18,
   "metadata": {},
   "outputs": [
    {
     "name": "stdout",
     "output_type": "stream",
     "text": [
      "                       Total Count Percentage of Players\n",
      "Gender                                                  \n",
      "Male                           484                 84.03\n",
      "Female                          81                 14.06\n",
      "Other / Non-Disclosed           11                  1.91\n"
     ]
    }
   ],
   "source": [
    "# Gender Demographics\n",
    "demographics_pd = data_pd[[\"SN\", \"Gender\", \"Age\"]]\n",
    "demographics_pd = demographics_pd.drop_duplicates(subset = \"SN\")\n",
    "value_counts = demographics_pd[\"Gender\"].value_counts()\n",
    "gender_pd = pd.DataFrame({\"Total Count\" : [value_counts[0], value_counts[1], value_counts[2]], \n",
    "                        \"Percentage of Players\" : [(value_counts[0] / players) * 100,\n",
    "                                                    (value_counts[1] / players) * 100,\n",
    "                                                    (value_counts[2] / players) * 100],\n",
    "                        \"Gender\" : [\"Male\", \"Female\", \"Other / Non-Disclosed\"]})\n",
    "gender_pd[\"Percentage of Players\"] = gender_pd[\"Percentage of Players\"].map(\"{:.2f}\".format)\n",
    "gender_pd = gender_pd.set_index(\"Gender\")\n",
    "print(gender_pd)"
   ]
  },
  {
   "cell_type": "code",
   "execution_count": 19,
   "metadata": {},
   "outputs": [
    {
     "name": "stdout",
     "output_type": "stream",
     "text": [
      "                       Purchase Count Average Purchase Price  \\\n",
      "Gender                                                         \n",
      "Female                            113                  $3.20   \n",
      "Male                              652                  $3.02   \n",
      "Other / Non-Disclosed              15                  $3.35   \n",
      "\n",
      "                      Total Purchase Value Avg Total Purchase per Person  \n",
      "Gender                                                                    \n",
      "Female                             $361.94                         $4.47  \n",
      "Male                              $1967.64                         $4.07  \n",
      "Other / Non-Disclosed               $50.19                         $4.56  \n"
     ]
    }
   ],
   "source": [
    "# Purchasing Analysis (Gender)\n",
    "female_counts = len(data_pd.loc[data_pd[\"Gender\"] == \"Female\", :])\n",
    "male_counts =  len(data_pd.loc[data_pd[\"Gender\"] == \"Male\", :])\n",
    "other_counts = len(data_pd.loc[data_pd[\"Gender\"] == \"Other / Non-Disclosed\", :])\n",
    "\n",
    "female_avg_price_pd = data_pd.loc[data_pd[\"Gender\"] == \"Female\", :]\n",
    "female_avg_price = female_avg_price_pd[\"Price\"].mean()\n",
    "female_total = female_avg_price_pd[\"Price\"].sum()\n",
    "female_total_avg = female_total / value_counts[1]\n",
    "\n",
    "male_avg_price_pd = data_pd.loc[data_pd[\"Gender\"] == \"Male\", :]\n",
    "male_avg_price = male_avg_price_pd[\"Price\"].mean()\n",
    "male_total = male_avg_price_pd[\"Price\"].sum()\n",
    "male_total_avg = male_total / value_counts[0]\n",
    "\n",
    "other_avg_price_pd = data_pd.loc[data_pd[\"Gender\"] == \"Other / Non-Disclosed\", :]\n",
    "other_avg_price = other_avg_price_pd[\"Price\"].mean()\n",
    "other_total = other_avg_price_pd[\"Price\"].sum()\n",
    "other_total_avg = other_total / value_counts[2]\n",
    "\n",
    "purchase_pd = pd.DataFrame({\"Purchase Count\" : [female_counts, male_counts, other_counts], \n",
    "                            \"Average Purchase Price\" : [female_avg_price, male_avg_price, other_avg_price], \n",
    "                            \"Total Purchase Value\" : [female_total, male_total, other_total], \n",
    "                            \"Avg Total Purchase per Person\" : [female_total_avg, male_total_avg, other_total_avg], \n",
    "                            \"Gender\" : [\"Female\", \"Male\", \"Other / Non-Disclosed\"]})\n",
    "purchase_pd[\"Average Purchase Price\"] = purchase_pd[\"Average Purchase Price\"].map(\"${:.2f}\".format)\n",
    "purchase_pd[\"Total Purchase Value\"] = purchase_pd[\"Total Purchase Value\"].map(\"${:.2f}\".format)\n",
    "purchase_pd[\"Avg Total Purchase per Person\"] = purchase_pd[\"Avg Total Purchase per Person\"].map(\"${:.2f}\".format)\n",
    "purchase_pd = purchase_pd.set_index(\"Gender\")\n",
    "print(purchase_pd)"
   ]
  },
  {
   "cell_type": "code",
   "execution_count": 20,
   "metadata": {},
   "outputs": [
    {
     "name": "stdout",
     "output_type": "stream",
     "text": [
      "           Total Count Percentage of Players\n",
      "Age Group                                   \n",
      "<10                 17                  2.95\n",
      "10-14               22                  3.82\n",
      "15-19              107                 18.58\n",
      "20-24              258                 44.79\n",
      "25-29               77                 13.37\n",
      "30-34               52                  9.03\n",
      "35-39               31                  5.38\n",
      "40+                 12                  2.08\n"
     ]
    }
   ],
   "source": [
    "# Age Demographics\n",
    "bins = [0, 9, 14, 19, 24, 29, 34, 39, 50]\n",
    "group_names = [\"<10\", \"10-14\", \"15-19\", \"20-24\", \"25-29\", \"30-34\", \"35-39\", \"40+\"]\n",
    "age_pd = demographics_pd\n",
    "age_pd[\"Age Group\"] = pd.cut(age_pd[\"Age\"], bins, labels = group_names)\n",
    "group_counts = age_pd[\"Age Group\"].value_counts()\n",
    "counts = []\n",
    "counts_percent = []\n",
    "for i in range(len(group_names)):\n",
    "    counts.append(group_counts[i])\n",
    "    counts_percent.append((counts[i]/ players) * 100)\n",
    "age_pd_sum = pd.DataFrame({\"Total Count\" : counts, \"Percentage of Players\" : counts_percent, \"Age Group\" : group_names})\n",
    "age_pd_sum[\"Percentage of Players\"] = age_pd_sum[\"Percentage of Players\"].map(\"{:.2f}\".format)\n",
    "age_pd_sum = age_pd_sum.set_index(\"Age Group\")\n",
    "print(age_pd_sum)"
   ]
  },
  {
   "cell_type": "code",
   "execution_count": 21,
   "metadata": {},
   "outputs": [
    {
     "name": "stdout",
     "output_type": "stream",
     "text": [
      "           Purchase Count Average Purchase Price Total Purchase Value  \\\n",
      "Age Group                                                               \n",
      "<10                    23                  $3.35               $77.13   \n",
      "10-14                  28                  $2.96               $82.78   \n",
      "15-19                 136                  $3.04              $412.89   \n",
      "20-24                 365                  $3.05             $1114.06   \n",
      "25-29                 101                  $2.90              $293.00   \n",
      "30-34                  73                  $2.93              $214.00   \n",
      "35-39                  41                  $3.60              $147.67   \n",
      "40+                    13                  $2.94               $38.24   \n",
      "\n",
      "          Avg Total Purchase per Person  \n",
      "Age Group                                \n",
      "<10                               $4.54  \n",
      "10-14                             $3.76  \n",
      "15-19                             $3.86  \n",
      "20-24                             $4.32  \n",
      "25-29                             $3.81  \n",
      "30-34                             $4.12  \n",
      "35-39                             $4.76  \n",
      "40+                               $3.19  \n"
     ]
    }
   ],
   "source": [
    "# Purchasing Analysis (Age)\n",
    "age_purchase_pd = data_pd\n",
    "age_purchase_pd[\"Age Group\"] = pd.cut(age_purchase_pd[\"Age\"], bins, labels = group_names)\n",
    "groups = []\n",
    "purchase_count = []\n",
    "avg_purchcase = []\n",
    "total_purchase = []\n",
    "avg_per_person = []\n",
    "for i in range(len(group_names)):\n",
    "    groups.append(age_purchase_pd.loc[age_purchase_pd[\"Age Group\"] == group_names[i], :])\n",
    "    purchase_count.append(len(groups[i]))\n",
    "    total_purchase.append(groups[i][\"Price\"].sum())\n",
    "    avg_purchcase.append(total_purchase[i] / purchase_count[i])\n",
    "    avg_per_person.append(total_purchase[i] / counts[i])\n",
    "\n",
    "age_purchase_sum = pd.DataFrame({\"Purchase Count\" : purchase_count, \"Average Purchase Price\" : avg_purchcase,\n",
    "                                \"Total Purchase Value\" : total_purchase, \n",
    "                                \"Avg Total Purchase per Person\" : avg_per_person,\n",
    "                                \"Age Group\" : group_names})\n",
    "age_purchase_sum = age_purchase_sum.set_index(\"Age Group\")\n",
    "age_purchase_sum[\"Average Purchase Price\"] = age_purchase_sum[\"Average Purchase Price\"].map(\"${:.2f}\".format)\n",
    "age_purchase_sum[\"Total Purchase Value\"] = age_purchase_sum[\"Total Purchase Value\"].map(\"${:.2f}\".format)\n",
    "age_purchase_sum[\"Avg Total Purchase per Person\"] = age_purchase_sum[\"Avg Total Purchase per Person\"].map(\"${:.2f}\".format)\n",
    "print(age_purchase_sum)"
   ]
  },
  {
   "cell_type": "code",
   "execution_count": null,
   "metadata": {},
   "outputs": [],
   "source": [
    "# Top Spenders\n",
    "top_spenders_pd = data_pd\n",
    "names = top_spenders_pd[\"SN\"].value_counts().index.tolist()\n",
    "names_count = top_spenders_pd[\"SN\"].value_counts()\n",
    "top_groups = []\n",
    "total = []\n",
    "top_avg_price = []\n",
    "for i in range(len(names)):\n",
    "        top_groups.append(top_spenders_pd.loc[top_spenders_pd[\"SN\"] == names[i], :])\n",
    "        total.append(top_groups[i][\"Price\"].sum())\n",
    "        top_avg_price.append(total[i] / names_count[i])\n",
    "top_spenders_sum = pd.DataFrame({\"Purchase Count\" : names_count, \"Average Purchase Price\" : top_avg_price,\n",
    "                                \"Total Purchase Value\" : total, \"SN\" : names})\n",
    "top_spenders_sum = top_spenders_sum.sort_values(\"Total Purchase Value\", ascending = False)                               \n",
    "top_spenders_sum = top_spenders_sum.set_index(\"SN\")\n",
    "top_spenders_sum[\"Average Purchase Price\"] = top_spenders_sum[\"Average Purchase Price\"].map(\"${:.2f}\".format)\n",
    "top_spenders_sum[\"Total Purchase Value\"] = top_spenders_sum[\"Total Purchase Value\"].map(\"${:.2f}\".format)\n",
    "print(top_spenders_sum.head())"
   ]
  },
  {
   "cell_type": "code",
   "execution_count": 22,
   "metadata": {},
   "outputs": [
    {
     "name": "stdout",
     "output_type": "stream",
     "text": [
      "                                                      Purchase Count  \\\n",
      "Item ID Item Name                                                      \n",
      "178     Oathbreaker, Last Hope of the Breaking Storm              12   \n",
      "108     Extraction, Quickblade Of Trembling Hands                  9   \n",
      "145     Fiery Glass Crusader                                       9   \n",
      "82      Nirvana                                                    9   \n",
      "72      Winter's Bite                                              8   \n",
      "\n",
      "                                                     Item Price  \\\n",
      "Item ID Item Name                                                 \n",
      "178     Oathbreaker, Last Hope of the Breaking Storm      $4.23   \n",
      "108     Extraction, Quickblade Of Trembling Hands         $3.53   \n",
      "145     Fiery Glass Crusader                              $4.58   \n",
      "82      Nirvana                                           $4.90   \n",
      "72      Winter's Bite                                     $3.77   \n",
      "\n",
      "                                                     Total Purchase Value  \n",
      "Item ID Item Name                                                          \n",
      "178     Oathbreaker, Last Hope of the Breaking Storm               $50.76  \n",
      "108     Extraction, Quickblade Of Trembling Hands                  $31.77  \n",
      "145     Fiery Glass Crusader                                       $41.22  \n",
      "82      Nirvana                                                    $44.10  \n",
      "72      Winter's Bite                                              $30.16  \n"
     ]
    }
   ],
   "source": [
    "# Most Popular Items\n",
    "most_popular_pd = data_pd[[\"Item ID\", \"Item Name\", \"Price\"]]\n",
    "most_popular_np = most_popular_pd.groupby([\"Item ID\", \"Item Name\"])\n",
    "items_names = []\n",
    "items_price = []\n",
    "total_purchase_value = []\n",
    "items_count = most_popular_np.agg(np.size)[\"Price\"].tolist()\n",
    "items_count.sort(reverse = True)\n",
    "items_id = most_popular_pd[\"Item ID\"].value_counts().index.tolist()\n",
    "items_count = most_popular_pd[\"Item ID\"].value_counts().tolist()\n",
    "counter = 0\n",
    "for i in range(len(items_id)):\n",
    "        for j in range(len(most_popular_pd)):\n",
    "                if(most_popular_pd[\"Item ID\"][j] == items_id[i] and counter != 1):\n",
    "                        items_names.append(most_popular_pd[\"Item Name\"][j])\n",
    "                        items_price.append(most_popular_pd[\"Price\"][j])\n",
    "                        counter = 1\n",
    "        counter = 0\n",
    "        total_purchase_value.append(items_count[i] * items_price[i])\n",
    "most_popular_sum = pd.DataFrame({\"Purchase Count\" : items_count, \"Item Price\" : items_price,\n",
    "                                \"Total Purchase Value\" : total_purchase_value,\n",
    "                                \"Item Name\" : items_names, \"Item ID\" : items_id})\n",
    "most_popular_sum[\"Purchase Count\"] = most_popular_sum[\"Purchase Count\"].astype(int)\n",
    "most_popular_sum[\"Item Price\"] = most_popular_sum[\"Item Price\"].map(\"${:.2f}\".format)\n",
    "\n",
    "most_profit_sum = most_popular_sum.sort_values(\"Total Purchase Value\", ascending = False)\n",
    "\n",
    "most_popular_sum[\"Total Purchase Value\"] = most_popular_sum[\"Total Purchase Value\"].map(\"${:.2f}\".format)\n",
    "most_popular_sum = most_popular_sum.sort_values(\"Purchase Count\", ascending = False)\n",
    "most_popular_sum = most_popular_sum.set_index([\"Item ID\", \"Item Name\"])\n",
    "print(most_popular_sum.head())"
   ]
  },
  {
   "cell_type": "code",
   "execution_count": 23,
   "metadata": {},
   "outputs": [
    {
     "name": "stdout",
     "output_type": "stream",
     "text": [
      "                                                      Purchase Count  \\\n",
      "Item ID Item Name                                                      \n",
      "178     Oathbreaker, Last Hope of the Breaking Storm              12   \n",
      "82      Nirvana                                                    9   \n",
      "145     Fiery Glass Crusader                                       9   \n",
      "92      Final Critic                                               8   \n",
      "103     Singed Scalpel                                             8   \n",
      "\n",
      "                                                     Item Price  \\\n",
      "Item ID Item Name                                                 \n",
      "178     Oathbreaker, Last Hope of the Breaking Storm      $4.23   \n",
      "82      Nirvana                                           $4.90   \n",
      "145     Fiery Glass Crusader                              $4.58   \n",
      "92      Final Critic                                      $4.88   \n",
      "103     Singed Scalpel                                    $4.35   \n",
      "\n",
      "                                                     Total Purchase Value  \n",
      "Item ID Item Name                                                          \n",
      "178     Oathbreaker, Last Hope of the Breaking Storm               $50.76  \n",
      "82      Nirvana                                                    $44.10  \n",
      "145     Fiery Glass Crusader                                       $41.22  \n",
      "92      Final Critic                                               $39.04  \n",
      "103     Singed Scalpel                                             $34.80  \n"
     ]
    }
   ],
   "source": [
    "# Most Profitable Items\n",
    "most_profit_sum[\"Total Purchase Value\"] = most_profit_sum[\"Total Purchase Value\"].map(\"${:.2f}\".format)\n",
    "most_profit_sum = most_profit_sum.set_index([\"Item ID\", \"Item Name\"])\n",
    "print(most_profit_sum.head())"
   ]
  },
  {
   "cell_type": "code",
   "execution_count": null,
   "metadata": {},
   "outputs": [],
   "source": []
  }
 ],
 "metadata": {
  "kernelspec": {
   "display_name": "Python 3",
   "language": "python",
   "name": "python3"
  },
  "language_info": {
   "codemirror_mode": {
    "name": "ipython",
    "version": 3
   },
   "file_extension": ".py",
   "mimetype": "text/x-python",
   "name": "python",
   "nbconvert_exporter": "python",
   "pygments_lexer": "ipython3",
   "version": "3.7.0"
  }
 },
 "nbformat": 4,
 "nbformat_minor": 2
}
